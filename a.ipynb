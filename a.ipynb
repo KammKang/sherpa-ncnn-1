{
 "cells": [
  {
   "cell_type": "code",
   "execution_count": 5,
   "metadata": {},
   "outputs": [],
   "source": [
    "a = [\"rider_last14d_avg_driver_to_restaurant_time\",\n",
    "\"rider_last7d_avg_driver_to_restaurant_time\",\n",
    "\"rider_last3d_avg_driver_to_restaurant_time\",\n",
    "\"rider_last1d_avg_driver_to_restaurant_time\",\n",
    "\"rider_last14d_weekday_avg_driver_to_restaurant_time\",\n",
    "\"rider_last7d_weekday_avg_driver_to_restaurant_time\",\n",
    "\"rider_last3d_weekday_avg_driver_to_restaurant_time\",\n",
    "\"rider_last1d_weekday_avg_driver_to_restaurant_time\",\n",
    "\"rider_last28d_weekend_avg_driver_to_restaurant_time\",\n",
    "\"rider_last21d_weekend_avg_driver_to_restaurant_time\",\n",
    "\"rider_last14d_weekend_avg_driver_to_restaurant_time\",\n",
    "\"rider_last7d_weekend_avg_driver_to_restaurant_time\",\n",
    "\"rider_last3d_weekend_avg_driver_to_restaurant_time\",\n",
    "\"rider_last1d_weekend_avg_driver_to_restaurant_time\",\n",
    "\"rtt_last14d_weekday_avg_uwt\",\n",
    "\"rtt_last7d_weekday_avg_uwt\",\n",
    "\"rtt_last3d_weekday_avg_uwt\",\n",
    "\"rtt_last1d_weekday_avg_uwt\",\n",
    "\"rtt_last28d_weekend_avg_uwt\",\n",
    "\"rtt_last21d_weekend_avg_uwt\",\n",
    "\"rtt_last14d_weekend_avg_uwt\",\n",
    "\"rtt_last7d_weekend_avg_uwt\",\n",
    "\"rtt_last3d_weekend_avg_uwt\",\n",
    "\"rtt_last1d_weekend_avg_uwt\",\n",
    "\"rtt_last14d_avg_cooking_time\",\n",
    "\"rtt_last7d_avg_cooking_time\",\n",
    "\"rtt_last3d_avg_cooking_time\",\n",
    "\"rtt_last1d_avg_cooking_time\",\n",
    "\"rtt_last14d_weekday_avg_cooking_time\",\n",
    "\"rtt_last7d_weekday_avg_cooking_time\",\n",
    "\"rtt_last3d_weekday_avg_cooking_time\",\n",
    "\"rtt_last1d_weekday_avg_cooking_time\",\n",
    "\"rtt_last28d_weekend_avg_cooking_time\",\n",
    "\"rtt_last21d_weekend_avg_cooking_time\",\n",
    "\"rtt_last14d_weekend_avg_cooking_time\",\n",
    "\"rtt_last7d_weekend_avg_cooking_time\",\n",
    "\"rtt_last3d_weekend_avg_cooking_time\",\n",
    "\"rtt_last1d_weekend_avg_cooking_time\",\n",
    "\"rtt_last14d_avg_leaving_time\",\n",
    "\"rtt_last7d_avg_leaving_time\",\n",
    "\"rtt_last3d_avg_leaving_time\",\n",
    "\"rtt_last1d_avg_leaving_time\",\n",
    "\"rtt_last14d_weekday_avg_leaving_time\",\n",
    "\"rtt_last7d_weekday_avg_leaving_time\",\n",
    "\"rtt_last3d_weekday_avg_leaving_time\",\n",
    "\"rtt_last1d_weekday_avg_leaving_time\",\n",
    "\"rtt_last28d_weekend_avg_leaving_time\",\n",
    "\"rtt_last21d_weekend_avg_leaving_time\",\n",
    "\"rtt_last14d_weekend_avg_leaving_time\",\n",
    "\"rtt_last7d_weekend_avg_leaving_time\",\n",
    "\"rtt_last3d_weekend_avg_leaving_time\",\n",
    "\"rtt_last1d_weekend_avg_leaving_time\",\n",
    "\"rtt_last14d_avg_distance\",\n",
    "\"rtt_last7d_avg_distance\",\n",
    "\"rtt_last3d_avg_distance\",\n",
    "\"rtt_last1d_avg_distance\",\n",
    "\"rtt_last14d_weekday_avg_distance\",\n",
    "\"rtt_last7d_weekday_avg_distance\",\n",
    "\"rtt_last3d_weekday_avg_distance\",\n",
    "\"rtt_last1d_weekday_avg_distance\",\n",
    "\"rtt_last28d_weekend_avg_distance\",\n",
    "\"rtt_last21d_weekend_avg_distance\",\n",
    "\"rtt_last14d_weekend_avg_distance\",\n",
    "\"rtt_last7d_weekend_avg_distance\",\n",
    "\"rtt_last3d_weekend_avg_distance\",\n",
    "\"rtt_last1d_weekend_avg_distance\"\n",
    "]"
   ]
  },
  {
   "cell_type": "code",
   "execution_count": 3,
   "metadata": {},
   "outputs": [
    {
     "data": {
      "text/plain": [
       "'rtt_last7d_avg_distance'"
      ]
     },
     "execution_count": 3,
     "metadata": {},
     "output_type": "execute_result"
    }
   ],
   "source": [
    "\"rtt_last14d_avg_distance\".replace(\"14d\",'7d')"
   ]
  },
  {
   "cell_type": "code",
   "execution_count": 7,
   "metadata": {},
   "outputs": [
    {
     "name": "stdout",
     "output_type": "stream",
     "text": [
      "rider_last14d_avg_driver_to_restaurant_time,coalesce(rider_last7d_avg_driver_to_restaurant_time,rider_last14d_avg_driver_to_restaurant_time) as rider_last7d_avg_driver_to_restaurant_time,coalesce(rider_last3d_avg_driver_to_restaurant_time,rider_last7d_avg_driver_to_restaurant_time,rider_last14d_avg_driver_to_restaurant_time) as rider_last3d_avg_driver_to_restaurant_time,coalesce(rider_last1d_avg_driver_to_restaurant_time,rider_last3d_avg_driver_to_restaurant_time,rider_last7d_avg_driver_to_restaurant_time,rider_last14d_avg_driver_to_restaurant_time) as rider_last1d_avg_driver_to_restaurant_time,rider_last14d_weekday_avg_driver_to_restaurant_time,coalesce(rider_last7d_weekday_avg_driver_to_restaurant_time,rider_last14d_weekday_avg_driver_to_restaurant_time) as rider_last7d_weekday_avg_driver_to_restaurant_time,coalesce(rider_last3d_weekday_avg_driver_to_restaurant_time,rider_last7d_weekday_avg_driver_to_restaurant_time,rider_last14d_weekday_avg_driver_to_restaurant_time) as rider_last3d_weekday_avg_driver_to_restaurant_time,coalesce(rider_last1d_weekday_avg_driver_to_restaurant_time,rider_last3d_weekday_avg_driver_to_restaurant_time,rider_last7d_weekday_avg_driver_to_restaurant_time,rider_last14d_weekday_avg_driver_to_restaurant_time) as rider_last1d_weekday_avg_driver_to_restaurant_time,rider_last28d_weekend_avg_driver_to_restaurant_time,rider_last21d_weekend_avg_driver_to_restaurant_time,rider_last14d_weekend_avg_driver_to_restaurant_time,coalesce(rider_last7d_weekend_avg_driver_to_restaurant_time,rider_last14d_weekend_avg_driver_to_restaurant_time) as rider_last7d_weekend_avg_driver_to_restaurant_time,coalesce(rider_last3d_weekend_avg_driver_to_restaurant_time,rider_last7d_weekend_avg_driver_to_restaurant_time,rider_last14d_weekend_avg_driver_to_restaurant_time) as rider_last3d_weekend_avg_driver_to_restaurant_time,coalesce(rider_last1d_weekend_avg_driver_to_restaurant_time,rider_last3d_weekend_avg_driver_to_restaurant_time,rider_last7d_weekend_avg_driver_to_restaurant_time,rider_last14d_weekend_avg_driver_to_restaurant_time) as rider_last1d_weekend_avg_driver_to_restaurant_time,rtt_last14d_weekday_avg_uwt,coalesce(rtt_last7d_weekday_avg_uwt,rtt_last14d_weekday_avg_uwt) as rtt_last7d_weekday_avg_uwt,coalesce(rtt_last3d_weekday_avg_uwt,rtt_last7d_weekday_avg_uwt,rtt_last14d_weekday_avg_uwt) as rtt_last3d_weekday_avg_uwt,coalesce(rtt_last1d_weekday_avg_uwt,rtt_last3d_weekday_avg_uwt,rtt_last7d_weekday_avg_uwt,rtt_last14d_weekday_avg_uwt) as rtt_last1d_weekday_avg_uwt,rtt_last28d_weekend_avg_uwt,rtt_last21d_weekend_avg_uwt,rtt_last14d_weekend_avg_uwt,coalesce(rtt_last7d_weekend_avg_uwt,rtt_last14d_weekend_avg_uwt) as rtt_last7d_weekend_avg_uwt,coalesce(rtt_last3d_weekend_avg_uwt,rtt_last7d_weekend_avg_uwt,rtt_last14d_weekend_avg_uwt) as rtt_last3d_weekend_avg_uwt,coalesce(rtt_last1d_weekend_avg_uwt,rtt_last3d_weekend_avg_uwt,rtt_last7d_weekend_avg_uwt,rtt_last14d_weekend_avg_uwt) as rtt_last1d_weekend_avg_uwt,rtt_last14d_avg_cooking_time,coalesce(rtt_last7d_avg_cooking_time,rtt_last14d_avg_cooking_time) as rtt_last7d_avg_cooking_time,coalesce(rtt_last3d_avg_cooking_time,rtt_last7d_avg_cooking_time,rtt_last14d_avg_cooking_time) as rtt_last3d_avg_cooking_time,coalesce(rtt_last1d_avg_cooking_time,rtt_last3d_avg_cooking_time,rtt_last7d_avg_cooking_time,rtt_last14d_avg_cooking_time) as rtt_last1d_avg_cooking_time,rtt_last14d_weekday_avg_cooking_time,coalesce(rtt_last7d_weekday_avg_cooking_time,rtt_last14d_weekday_avg_cooking_time) as rtt_last7d_weekday_avg_cooking_time,coalesce(rtt_last3d_weekday_avg_cooking_time,rtt_last7d_weekday_avg_cooking_time,rtt_last14d_weekday_avg_cooking_time) as rtt_last3d_weekday_avg_cooking_time,coalesce(rtt_last1d_weekday_avg_cooking_time,rtt_last3d_weekday_avg_cooking_time,rtt_last7d_weekday_avg_cooking_time,rtt_last14d_weekday_avg_cooking_time) as rtt_last1d_weekday_avg_cooking_time,rtt_last28d_weekend_avg_cooking_time,rtt_last21d_weekend_avg_cooking_time,rtt_last14d_weekend_avg_cooking_time,coalesce(rtt_last7d_weekend_avg_cooking_time,rtt_last14d_weekend_avg_cooking_time) as rtt_last7d_weekend_avg_cooking_time,coalesce(rtt_last3d_weekend_avg_cooking_time,rtt_last7d_weekend_avg_cooking_time,rtt_last14d_weekend_avg_cooking_time) as rtt_last3d_weekend_avg_cooking_time,coalesce(rtt_last1d_weekend_avg_cooking_time,rtt_last3d_weekend_avg_cooking_time,rtt_last7d_weekend_avg_cooking_time,rtt_last14d_weekend_avg_cooking_time) as rtt_last1d_weekend_avg_cooking_time,rtt_last14d_avg_leaving_time,coalesce(rtt_last7d_avg_leaving_time,rtt_last14d_avg_leaving_time) as rtt_last7d_avg_leaving_time,coalesce(rtt_last3d_avg_leaving_time,rtt_last7d_avg_leaving_time,rtt_last14d_avg_leaving_time) as rtt_last3d_avg_leaving_time,coalesce(rtt_last1d_avg_leaving_time,rtt_last3d_avg_leaving_time,rtt_last7d_avg_leaving_time,rtt_last14d_avg_leaving_time) as rtt_last1d_avg_leaving_time,rtt_last14d_weekday_avg_leaving_time,coalesce(rtt_last7d_weekday_avg_leaving_time,rtt_last14d_weekday_avg_leaving_time) as rtt_last7d_weekday_avg_leaving_time,coalesce(rtt_last3d_weekday_avg_leaving_time,rtt_last7d_weekday_avg_leaving_time,rtt_last14d_weekday_avg_leaving_time) as rtt_last3d_weekday_avg_leaving_time,coalesce(rtt_last1d_weekday_avg_leaving_time,rtt_last3d_weekday_avg_leaving_time,rtt_last7d_weekday_avg_leaving_time,rtt_last14d_weekday_avg_leaving_time) as rtt_last1d_weekday_avg_leaving_time,rtt_last28d_weekend_avg_leaving_time,rtt_last21d_weekend_avg_leaving_time,rtt_last14d_weekend_avg_leaving_time,coalesce(rtt_last7d_weekend_avg_leaving_time,rtt_last14d_weekend_avg_leaving_time) as rtt_last7d_weekend_avg_leaving_time,coalesce(rtt_last3d_weekend_avg_leaving_time,rtt_last7d_weekend_avg_leaving_time,rtt_last14d_weekend_avg_leaving_time) as rtt_last3d_weekend_avg_leaving_time,coalesce(rtt_last1d_weekend_avg_leaving_time,rtt_last3d_weekend_avg_leaving_time,rtt_last7d_weekend_avg_leaving_time,rtt_last14d_weekend_avg_leaving_time) as rtt_last1d_weekend_avg_leaving_time,rtt_last14d_avg_distance,coalesce(rtt_last7d_avg_distance,rtt_last14d_avg_distance) as rtt_last7d_avg_distance,coalesce(rtt_last3d_avg_distance,rtt_last7d_avg_distance,rtt_last14d_avg_distance) as rtt_last3d_avg_distance,coalesce(rtt_last1d_avg_distance,rtt_last3d_avg_distance,rtt_last7d_avg_distance,rtt_last14d_avg_distance) as rtt_last1d_avg_distance,rtt_last14d_weekday_avg_distance,coalesce(rtt_last7d_weekday_avg_distance,rtt_last14d_weekday_avg_distance) as rtt_last7d_weekday_avg_distance,coalesce(rtt_last3d_weekday_avg_distance,rtt_last7d_weekday_avg_distance,rtt_last14d_weekday_avg_distance) as rtt_last3d_weekday_avg_distance,coalesce(rtt_last1d_weekday_avg_distance,rtt_last3d_weekday_avg_distance,rtt_last7d_weekday_avg_distance,rtt_last14d_weekday_avg_distance) as rtt_last1d_weekday_avg_distance,rtt_last28d_weekend_avg_distance,rtt_last21d_weekend_avg_distance,rtt_last14d_weekend_avg_distance,coalesce(rtt_last7d_weekend_avg_distance,rtt_last14d_weekend_avg_distance) as rtt_last7d_weekend_avg_distance,coalesce(rtt_last3d_weekend_avg_distance,rtt_last7d_weekend_avg_distance,rtt_last14d_weekend_avg_distance) as rtt_last3d_weekend_avg_distance,coalesce(rtt_last1d_weekend_avg_distance,rtt_last3d_weekend_avg_distance,rtt_last7d_weekend_avg_distance,rtt_last14d_weekend_avg_distance) as rtt_last1d_weekend_avg_distance,\n"
     ]
    }
   ],
   "source": [
    "res = \"\"\n",
    "for t in a :\n",
    "    if t.find('7d')!=-1:\n",
    "        res+=\"coalesce({},{}) as {},\".format(t,t.replace('7d','14d'),t)\n",
    "    elif t.find('3d')!=-1:\n",
    "        res+=\"coalesce({},{},{}) as {},\".format(t,t.replace('3d','7d'),t.replace('3d','14d'),t)\n",
    "    elif t.find('t1d')!=-1:\n",
    "        res+=\"coalesce({},{},{},{}) as {},\".format(t,t.replace('1d','3d'),t.replace('1d','7d'),t.replace('1d','14d'),t)\n",
    "    else:\n",
    "        res+='{},'.format(t)\n",
    "print(res)"
   ]
  },
  {
   "cell_type": "markdown",
   "metadata": {},
   "source": [
    "with rtt_h3_month as (\n",
    "    select\n",
    "        order_id,\n",
    "        uwt,\n",
    "        rtt_id,\n",
    "        fp_h3_hash(from_location_lat, from_location_lng, 7) as rtt_h3_7,\n",
    "        fp_h3_hash(from_location_lat, from_location_lng, 8) as rtt_h3_8,\n",
    "        fp_h3_hash(from_location_lat, from_location_lng, 6) as rtt_h3_6,\n",
    "\n",
    "        -- 1.4km \n",
    "        fp_h3_hash(to_location_lat, to_location_lng, 8) as user_h3_8,\n",
    "        HOUR(created_at) as hour,\n",
    "        CASE\n",
    "            WHEN DAYOFWEEK(created_at) = 1\n",
    "            OR DAYOFWEEK(created_at) = 7 THEN 1\n",
    "            ELSE 0\n",
    "        END AS is_weekend,\n",
    "        floor(cast(created_at as int) / 60) * 60 as window_end_epoch,\n",
    "        --时间窗\n",
    "        floor(cast(driver_times_assigning_driver as int) / 5) * 5 as dispatch_window_epoch,\n",
    "        cast(driver_times_arrived_from as int) - cast(created_at as int) as driver_to_restaurant,\n",
    "        dt\n",
    "    from\n",
    "        feature_beta.dalian_sds_order_total_daily_v3\n",
    "    where\n",
    "        isNotNull(driver_times_completed)\n",
    "        and (delivery_status = 'COMPLETED')\n",
    "        and (status = 'COMPLETED')\n",
    "        and (delivery_supplier = 'lineman_driver')\n",
    "        and floor(\n",
    "            cast(driver_times_completed as double) - cast(user_placed_time as double)\n",
    "        ) > (5 * 60)\n",
    "        and floor(\n",
    "            cast(driver_times_completed as double) - cast(user_placed_time as double)\n",
    "        ) < (90 * 60)\n",
    "        and distance >= 200\n",
    "        and dt between replace(date_sub('$start_date_dash', 28), '-', '')\n",
    "        and replace('$start_date_dash', '-', '')\n",
    ")\n",
    "select rtt_h3_id as h3hash ,   '$partition' as dt\n",
    ",rider_last14d_avg_driver_to_restaurant_time,\n",
    "rider_last7d_avg_driver_to_restaurant_time,\n",
    "rider_last3d_avg_driver_to_restaurant_time,\n",
    "rider_last1d_avg_driver_to_restaurant_time,-- 历史N天， 周末/周常 ，avg到店时间\n",
    "rider_last14d_weekday_avg_driver_to_restaurant_time,\n",
    "rider_last7d_weekday_avg_driver_to_restaurant_time,\n",
    "rider_last3d_weekday_avg_driver_to_restaurant_time,\n",
    "rider_last1d_weekday_avg_driver_to_restaurant_time,\n",
    "rider_last28d_weekend_avg_driver_to_restaurant_time,\n",
    "rider_last21d_weekend_avg_driver_to_restaurant_time,\n",
    "rider_last14d_weekend_avg_driver_to_restaurant_time,\n",
    "rider_last7d_weekend_avg_driver_to_restaurant_time,\n",
    "rider_last3d_weekend_avg_driver_to_restaurant_time,\n",
    "rider_last1d_weekend_avg_driver_to_restaurant_time,-- 历史N天,周末/周常 平均UWT\n",
    "rtt_last14d_weekday_avg_uwt,\n",
    "rtt_last7d_weekday_avg_uwt,\n",
    "rtt_last3d_weekday_avg_uwt,\n",
    "rtt_last1d_weekday_avg_uwt,\n",
    "rtt_last28d_weekend_avg_uwt,\n",
    "rtt_last21d_weekend_avg_uwt,\n",
    "rtt_last14d_weekend_avg_uwt,\n",
    "rtt_last7d_weekend_avg_uwt,\n",
    "rtt_last3d_weekend_avg_uwt,\n",
    "rtt_last1d_weekend_avg_uwt from (\n",
    "select\n",
    "    rtt_h3_7 as rtt_h3_id,\n",
    "    -- 历史N 天 Z 到店时间 \n",
    "    avg(driver_to_restaurant) filter(where dt between replace(date_sub('$start_date_dash', 14), '-', '') and replace('$start_date_dash', '-', '') and isNotNull(driver_to_restaurant)) as rider_last14d_avg_driver_to_restaurant_time,\n",
    "    avg(driver_to_restaurant) filter(where dt between replace(date_sub('$start_date_dash', 7), '-', '') and replace('$start_date_dash', '-', '') and isNotNull(driver_to_restaurant)) as rider_last7d_avg_driver_to_restaurant_time,\n",
    "    avg(driver_to_restaurant) filter(where dt between replace(date_sub('$start_date_dash', 3), '-', '') and replace('$start_date_dash', '-', '') and isNotNull(driver_to_restaurant)) as rider_last3d_avg_driver_to_restaurant_time,\n",
    "    avg(driver_to_restaurant) filter(where dt between replace(date_sub('$start_date_dash', 1), '-', '') and replace('$start_date_dash', '-', '') and isNotNull(driver_to_restaurant)) as rider_last1d_avg_driver_to_restaurant_time,\n",
    "    -- 历史N天， 周末/周常 ，avg到店时间\n",
    "    avg(driver_to_restaurant) filter(where dt between replace(date_sub('$start_date_dash', 14), '-', '') and replace('$start_date_dash', '-', '') and isNotNull(driver_to_restaurant) and is_weekend=0) as rider_last14d_weekday_avg_driver_to_restaurant_time,\n",
    "    avg(driver_to_restaurant) filter(where dt between replace(date_sub('$start_date_dash', 7), '-', '') and replace('$start_date_dash', '-', '') and isNotNull(driver_to_restaurant) and is_weekend=0) as rider_last7d_weekday_avg_driver_to_restaurant_time,\n",
    "    avg(driver_to_restaurant) filter(where dt between replace(date_sub('$start_date_dash', 3), '-', '') and replace('$start_date_dash', '-', '') and isNotNull(driver_to_restaurant) and is_weekend=0) as rider_last3d_weekday_avg_driver_to_restaurant_time,\n",
    "    avg(driver_to_restaurant) filter(where dt between replace(date_sub('$start_date_dash', 1), '-', '') and replace('$start_date_dash', '-', '') and isNotNull(driver_to_restaurant) and is_weekend=0) as rider_last1d_weekday_avg_driver_to_restaurant_time,\n",
    "    avg(driver_to_restaurant) filter(where dt between replace(date_sub('$start_date_dash', 28), '-', '') and replace('$start_date_dash', '-', '') and isNotNull(driver_to_restaurant) and is_weekend=1) as rider_last28d_weekend_avg_driver_to_restaurant_time,\n",
    "    avg(driver_to_restaurant) filter(where dt between replace(date_sub('$start_date_dash', 21), '-', '') and replace('$start_date_dash', '-', '') and isNotNull(driver_to_restaurant) and is_weekend=1) as rider_last21d_weekend_avg_driver_to_restaurant_time,\n",
    "    avg(driver_to_restaurant) filter(where dt between replace(date_sub('$start_date_dash', 14), '-', '') and replace('$start_date_dash', '-', '') and isNotNull(driver_to_restaurant) and is_weekend=1) as rider_last14d_weekend_avg_driver_to_restaurant_time,\n",
    "    avg(driver_to_restaurant) filter(where dt between replace(date_sub('$start_date_dash', 7), '-', '') and replace('$start_date_dash', '-', '') and isNotNull(driver_to_restaurant) and is_weekend=1) as rider_last7d_weekend_avg_driver_to_restaurant_time,\n",
    "    avg(driver_to_restaurant) filter(where dt between replace(date_sub('$start_date_dash', 3), '-', '') and replace('$start_date_dash', '-', '')and isNotNull(driver_to_restaurant)  and is_weekend=1) as rider_last3d_weekend_avg_driver_to_restaurant_time,\n",
    "    avg(driver_to_restaurant) filter(where dt between replace(date_sub('$start_date_dash', 1), '-', '') and replace('$start_date_dash', '-', '') and isNotNull(driver_to_restaurant)  and is_weekend=1) as rider_last1d_weekend_avg_driver_to_restaurant_time,\n",
    "    -- 历史N天,周末/周常 平均UWT\n",
    "    avg(uwt) filter(where dt between replace(date_sub('$start_date_dash', 14), '-', '') and replace('$start_date_dash', '-', '') and is_weekend=0) as rtt_last14d_weekday_avg_uwt,\n",
    "    avg(uwt) filter(where dt between replace(date_sub('$start_date_dash', 7), '-', '') and replace('$start_date_dash', '-', '') and is_weekend=0) as rtt_last7d_weekday_avg_uwt,\n",
    "    avg(uwt) filter(where dt between replace(date_sub('$start_date_dash', 3), '-', '') and replace('$start_date_dash', '-', '') and is_weekend=0) as rtt_last3d_weekday_avg_uwt,\n",
    "    avg(uwt) filter(where dt between replace(date_sub('$start_date_dash', 1), '-', '') and replace('$start_date_dash', '-', '') and is_weekend=0) as rtt_last1d_weekday_avg_uwt,\n",
    "    avg(uwt) filter(where dt between replace(date_sub('$start_date_dash', 28), '-', '') and replace('$start_date_dash', '-', '') and is_weekend=1) as rtt_last28d_weekend_avg_uwt,\n",
    "    avg(uwt) filter(where dt between replace(date_sub('$start_date_dash', 21), '-', '') and replace('$start_date_dash', '-', '') and is_weekend=1) as rtt_last21d_weekend_avg_uwt,\n",
    "    avg(uwt) filter(where dt between replace(date_sub('$start_date_dash', 14), '-', '') and replace('$start_date_dash', '-', '') and is_weekend=1) as rtt_last14d_weekend_avg_uwt,\n",
    "    avg(uwt) filter(where dt between replace(date_sub('$start_date_dash', 7), '-', '') and replace('$start_date_dash', '-', '') and is_weekend=1) as rtt_last7d_weekend_avg_uwt,\n",
    "    avg(uwt) filter(where dt between replace(date_sub('$start_date_dash', 3), '-', '') and replace('$start_date_dash', '-', '') and is_weekend=1) as rtt_last3d_weekend_avg_uwt,\n",
    "    avg(uwt) filter(where dt between replace(date_sub('$start_date_dash', 1), '-', '') and replace('$start_date_dash', '-', '') and is_weekend=1) as rtt_last1d_weekend_avg_uwt\n",
    "from rtt_h3_month\n",
    "group by rtt_h3_7 \n",
    "union all \n",
    "select\n",
    "    rtt_h3_8 as rtt_h3_id,\n",
    "    -- 历史N 天 Z 到店时间 \n",
    "    avg(driver_to_restaurant) filter(where dt between replace(date_sub('$start_date_dash', 14), '-', '') and replace('$start_date_dash', '-', '') and isNotNull(driver_to_restaurant)) as rider_last14d_avg_driver_to_restaurant_time,\n",
    "    avg(driver_to_restaurant) filter(where dt between replace(date_sub('$start_date_dash', 7), '-', '') and replace('$start_date_dash', '-', '') and isNotNull(driver_to_restaurant)) as rider_last7d_avg_driver_to_restaurant_time,\n",
    "    avg(driver_to_restaurant) filter(where dt between replace(date_sub('$start_date_dash', 3), '-', '') and replace('$start_date_dash', '-', '') and isNotNull(driver_to_restaurant)) as rider_last3d_avg_driver_to_restaurant_time,\n",
    "    avg(driver_to_restaurant) filter(where dt between replace(date_sub('$start_date_dash', 1), '-', '') and replace('$start_date_dash', '-', '') and isNotNull(driver_to_restaurant)) as rider_last1d_avg_driver_to_restaurant_time,\n",
    "    -- 历史N天， 周末/周常 ，avg到店时间\n",
    "    avg(driver_to_restaurant) filter(where dt between replace(date_sub('$start_date_dash', 14), '-', '') and replace('$start_date_dash', '-', '') and isNotNull(driver_to_restaurant) and is_weekend=0) as rider_last14d_weekday_avg_driver_to_restaurant_time,\n",
    "    avg(driver_to_restaurant) filter(where dt between replace(date_sub('$start_date_dash', 7), '-', '') and replace('$start_date_dash', '-', '') and isNotNull(driver_to_restaurant) and is_weekend=0) as rider_last7d_weekday_avg_driver_to_restaurant_time,\n",
    "    avg(driver_to_restaurant) filter(where dt between replace(date_sub('$start_date_dash', 3), '-', '') and replace('$start_date_dash', '-', '') and isNotNull(driver_to_restaurant) and is_weekend=0) as rider_last3d_weekday_avg_driver_to_restaurant_time,\n",
    "    avg(driver_to_restaurant) filter(where dt between replace(date_sub('$start_date_dash', 1), '-', '') and replace('$start_date_dash', '-', '') and isNotNull(driver_to_restaurant) and is_weekend=0) as rider_last1d_weekday_avg_driver_to_restaurant_time,\n",
    "    avg(driver_to_restaurant) filter(where dt between replace(date_sub('$start_date_dash', 28), '-', '') and replace('$start_date_dash', '-', '') and isNotNull(driver_to_restaurant) and is_weekend=1) as rider_last28d_weekend_avg_driver_to_restaurant_time,\n",
    "    avg(driver_to_restaurant) filter(where dt between replace(date_sub('$start_date_dash', 21), '-', '') and replace('$start_date_dash', '-', '') and isNotNull(driver_to_restaurant) and is_weekend=1) as rider_last21d_weekend_avg_driver_to_restaurant_time,\n",
    "    avg(driver_to_restaurant) filter(where dt between replace(date_sub('$start_date_dash', 14), '-', '') and replace('$start_date_dash', '-', '') and isNotNull(driver_to_restaurant) and is_weekend=1) as rider_last14d_weekend_avg_driver_to_restaurant_time,\n",
    "    avg(driver_to_restaurant) filter(where dt between replace(date_sub('$start_date_dash', 7), '-', '') and replace('$start_date_dash', '-', '') and isNotNull(driver_to_restaurant) and is_weekend=1) as rider_last7d_weekend_avg_driver_to_restaurant_time,\n",
    "    avg(driver_to_restaurant) filter(where dt between replace(date_sub('$start_date_dash', 3), '-', '') and replace('$start_date_dash', '-', '')and isNotNull(driver_to_restaurant)  and is_weekend=1) as rider_last3d_weekend_avg_driver_to_restaurant_time,\n",
    "    avg(driver_to_restaurant) filter(where dt between replace(date_sub('$start_date_dash', 1), '-', '') and replace('$start_date_dash', '-', '') and isNotNull(driver_to_restaurant)  and is_weekend=1) as rider_last1d_weekend_avg_driver_to_restaurant_time,\n",
    "    -- 历史N天,周末/周常 平均UWT\n",
    "    avg(uwt) filter(where dt between replace(date_sub('$start_date_dash', 14), '-', '') and replace('$start_date_dash', '-', '') and is_weekend=0) as rtt_last14d_weekday_avg_uwt,\n",
    "    avg(uwt) filter(where dt between replace(date_sub('$start_date_dash', 7), '-', '') and replace('$start_date_dash', '-', '') and is_weekend=0) as rtt_last7d_weekday_avg_uwt,\n",
    "    avg(uwt) filter(where dt between replace(date_sub('$start_date_dash', 3), '-', '') and replace('$start_date_dash', '-', '') and is_weekend=0) as rtt_last3d_weekday_avg_uwt,\n",
    "    avg(uwt) filter(where dt between replace(date_sub('$start_date_dash', 1), '-', '') and replace('$start_date_dash', '-', '') and is_weekend=0) as rtt_last1d_weekday_avg_uwt,\n",
    "    avg(uwt) filter(where dt between replace(date_sub('$start_date_dash', 28), '-', '') and replace('$start_date_dash', '-', '') and is_weekend=1) as rtt_last28d_weekend_avg_uwt,\n",
    "    avg(uwt) filter(where dt between replace(date_sub('$start_date_dash', 21), '-', '') and replace('$start_date_dash', '-', '') and is_weekend=1) as rtt_last21d_weekend_avg_uwt,\n",
    "    avg(uwt) filter(where dt between replace(date_sub('$start_date_dash', 14), '-', '') and replace('$start_date_dash', '-', '') and is_weekend=1) as rtt_last14d_weekend_avg_uwt,\n",
    "    avg(uwt) filter(where dt between replace(date_sub('$start_date_dash', 7), '-', '') and replace('$start_date_dash', '-', '') and is_weekend=1) as rtt_last7d_weekend_avg_uwt,\n",
    "    avg(uwt) filter(where dt between replace(date_sub('$start_date_dash', 3), '-', '') and replace('$start_date_dash', '-', '') and is_weekend=1) as rtt_last3d_weekend_avg_uwt,\n",
    "    avg(uwt) filter(where dt between replace(date_sub('$start_date_dash', 1), '-', '') and replace('$start_date_dash', '-', '') and is_weekend=1) as rtt_last1d_weekend_avg_uwt\n",
    "from rtt_h3_month\n",
    "group by rtt_h3_8 \n",
    "union all\n",
    "select\n",
    "    rtt_h3_6 as rtt_h3_id,\n",
    "    -- 历史N 天 Z 到店时间 \n",
    "    avg(driver_to_restaurant) filter(where dt between replace(date_sub('$start_date_dash', 14), '-', '') and replace('$start_date_dash', '-', '') and isNotNull(driver_to_restaurant)) as rider_last14d_avg_driver_to_restaurant_time,\n",
    "    avg(driver_to_restaurant) filter(where dt between replace(date_sub('$start_date_dash', 7), '-', '') and replace('$start_date_dash', '-', '') and isNotNull(driver_to_restaurant)) as rider_last7d_avg_driver_to_restaurant_time,\n",
    "    avg(driver_to_restaurant) filter(where dt between replace(date_sub('$start_date_dash', 3), '-', '') and replace('$start_date_dash', '-', '') and isNotNull(driver_to_restaurant)) as rider_last3d_avg_driver_to_restaurant_time,\n",
    "    avg(driver_to_restaurant) filter(where dt between replace(date_sub('$start_date_dash', 1), '-', '') and replace('$start_date_dash', '-', '') and isNotNull(driver_to_restaurant)) as rider_last1d_avg_driver_to_restaurant_time,\n",
    "    -- 历史N天， 周末/周常 ，avg到店时间\n",
    "    avg(driver_to_restaurant) filter(where dt between replace(date_sub('$start_date_dash', 14), '-', '') and replace('$start_date_dash', '-', '') and isNotNull(driver_to_restaurant) and is_weekend=0) as rider_last14d_weekday_avg_driver_to_restaurant_time,\n",
    "    avg(driver_to_restaurant) filter(where dt between replace(date_sub('$start_date_dash', 7), '-', '') and replace('$start_date_dash', '-', '') and isNotNull(driver_to_restaurant) and is_weekend=0) as rider_last7d_weekday_avg_driver_to_restaurant_time,\n",
    "    avg(driver_to_restaurant) filter(where dt between replace(date_sub('$start_date_dash', 3), '-', '') and replace('$start_date_dash', '-', '') and isNotNull(driver_to_restaurant) and is_weekend=0) as rider_last3d_weekday_avg_driver_to_restaurant_time,\n",
    "    avg(driver_to_restaurant) filter(where dt between replace(date_sub('$start_date_dash', 1), '-', '') and replace('$start_date_dash', '-', '') and isNotNull(driver_to_restaurant) and is_weekend=0) as rider_last1d_weekday_avg_driver_to_restaurant_time,\n",
    "    avg(driver_to_restaurant) filter(where dt between replace(date_sub('$start_date_dash', 28), '-', '') and replace('$start_date_dash', '-', '') and isNotNull(driver_to_restaurant) and is_weekend=1) as rider_last28d_weekend_avg_driver_to_restaurant_time,\n",
    "    avg(driver_to_restaurant) filter(where dt between replace(date_sub('$start_date_dash', 21), '-', '') and replace('$start_date_dash', '-', '') and isNotNull(driver_to_restaurant) and is_weekend=1) as rider_last21d_weekend_avg_driver_to_restaurant_time,\n",
    "    avg(driver_to_restaurant) filter(where dt between replace(date_sub('$start_date_dash', 14), '-', '') and replace('$start_date_dash', '-', '') and isNotNull(driver_to_restaurant) and is_weekend=1) as rider_last14d_weekend_avg_driver_to_restaurant_time,\n",
    "    avg(driver_to_restaurant) filter(where dt between replace(date_sub('$start_date_dash', 7), '-', '') and replace('$start_date_dash', '-', '') and isNotNull(driver_to_restaurant) and is_weekend=1) as rider_last7d_weekend_avg_driver_to_restaurant_time,\n",
    "    avg(driver_to_restaurant) filter(where dt between replace(date_sub('$start_date_dash', 3), '-', '') and replace('$start_date_dash', '-', '')and isNotNull(driver_to_restaurant)  and is_weekend=1) as rider_last3d_weekend_avg_driver_to_restaurant_time,\n",
    "    avg(driver_to_restaurant) filter(where dt between replace(date_sub('$start_date_dash', 1), '-', '') and replace('$start_date_dash', '-', '') and isNotNull(driver_to_restaurant)  and is_weekend=1) as rider_last1d_weekend_avg_driver_to_restaurant_time,\n",
    "    -- 历史N天,周末/周常 平均UWT\n",
    "    avg(uwt) filter(where dt between replace(date_sub('$start_date_dash', 14), '-', '') and replace('$start_date_dash', '-', '') and is_weekend=0) as rtt_last14d_weekday_avg_uwt,\n",
    "    avg(uwt) filter(where dt between replace(date_sub('$start_date_dash', 7), '-', '') and replace('$start_date_dash', '-', '') and is_weekend=0) as rtt_last7d_weekday_avg_uwt,\n",
    "    avg(uwt) filter(where dt between replace(date_sub('$start_date_dash', 3), '-', '') and replace('$start_date_dash', '-', '') and is_weekend=0) as rtt_last3d_weekday_avg_uwt,\n",
    "    avg(uwt) filter(where dt between replace(date_sub('$start_date_dash', 1), '-', '') and replace('$start_date_dash', '-', '') and is_weekend=0) as rtt_last1d_weekday_avg_uwt,\n",
    "    avg(uwt) filter(where dt between replace(date_sub('$start_date_dash', 28), '-', '') and replace('$start_date_dash', '-', '') and is_weekend=1) as rtt_last28d_weekend_avg_uwt,\n",
    "    avg(uwt) filter(where dt between replace(date_sub('$start_date_dash', 21), '-', '') and replace('$start_date_dash', '-', '') and is_weekend=1) as rtt_last21d_weekend_avg_uwt,\n",
    "    avg(uwt) filter(where dt between replace(date_sub('$start_date_dash', 14), '-', '') and replace('$start_date_dash', '-', '') and is_weekend=1) as rtt_last14d_weekend_avg_uwt,\n",
    "    avg(uwt) filter(where dt between replace(date_sub('$start_date_dash', 7), '-', '') and replace('$start_date_dash', '-', '') and is_weekend=1) as rtt_last7d_weekend_avg_uwt,\n",
    "    avg(uwt) filter(where dt between replace(date_sub('$start_date_dash', 3), '-', '') and replace('$start_date_dash', '-', '') and is_weekend=1) as rtt_last3d_weekend_avg_uwt,\n",
    "    avg(uwt) filter(where dt between replace(date_sub('$start_date_dash', 1), '-', '') and replace('$start_date_dash', '-', '') and is_weekend=1) as rtt_last1d_weekend_avg_uwt\n",
    "from rtt_h3_month\n",
    "group by rtt_h3_6\n",
    ")"
   ]
  },
  {
   "cell_type": "markdown",
   "metadata": {},
   "source": []
  },
  {
   "cell_type": "code",
   "execution_count": 24,
   "metadata": {},
   "outputs": [],
   "source": [
    "base = './base.sql'\n",
    "exp = './exp.sql'\n",
    "\n"
   ]
  },
  {
   "cell_type": "code",
   "execution_count": 25,
   "metadata": {},
   "outputs": [],
   "source": [
    "file = open(base)\n",
    "line0 = ''\n",
    "for line in file.readlines():\n",
    "    lines = line.split(\"],\")\n",
    "    dicts = {}\n",
    "    for ids in lines:\n",
    "        key,value = ids.split(\":\")\n",
    "        if key !='riders':\n",
    "            value = value+']'\n",
    "        dicts[key] = sorted((ast.literal_eval(value)))\n",
    "        \n",
    "\n"
   ]
  },
  {
   "cell_type": "code",
   "execution_count": 48,
   "metadata": {},
   "outputs": [
    {
     "data": {
      "text/plain": [
       "[\"orders:['LMF-240510-964690022', 'LMF-240510-003224698'\",\n",
       " 'mp_id:[1, 2',\n",
       " \"riders:['LMDBR2TRM', 'LMD9N00HH', 'LMDR1GL2G', 'LMDEHVTXX', 'LMDLKDEVW', 'LMDZAW4C2', 'LMDQIRS1Q', 'LMDWZNP0E', 'LMD7GJE9G', 'LMD8IRFJT', 'LMDUONDV1', 'LMDI2MHW6', 'LMDNHF3DB', 'LMD4OPY82', 'LMDGZSGBZ', 'LMDB3DN8R', 'LMDS4O9C1']\\n\"]"
      ]
     },
     "execution_count": 48,
     "metadata": {},
     "output_type": "execute_result"
    }
   ],
   "source": [
    "a = line0.split(\"],\")\n",
    "a"
   ]
  },
  {
   "cell_type": "code",
   "execution_count": 54,
   "metadata": {},
   "outputs": [],
   "source": [
    "import ast\n",
    "keys = []\n",
    "values = []\n",
    "\n"
   ]
  },
  {
   "cell_type": "code",
   "execution_count": 55,
   "metadata": {},
   "outputs": [
    {
     "data": {
      "text/plain": [
       "{'orders': ['LMF-240510-003224698', 'LMF-240510-964690022'],\n",
       " 'mp_id': [1, 2],\n",
       " 'riders': ['LMD4OPY82',\n",
       "  'LMD7GJE9G',\n",
       "  'LMD8IRFJT',\n",
       "  'LMD9N00HH',\n",
       "  'LMDB3DN8R',\n",
       "  'LMDBR2TRM',\n",
       "  'LMDEHVTXX',\n",
       "  'LMDGZSGBZ',\n",
       "  'LMDI2MHW6',\n",
       "  'LMDLKDEVW',\n",
       "  'LMDNHF3DB',\n",
       "  'LMDQIRS1Q',\n",
       "  'LMDR1GL2G',\n",
       "  'LMDS4O9C1',\n",
       "  'LMDUONDV1',\n",
       "  'LMDWZNP0E',\n",
       "  'LMDZAW4C2']}"
      ]
     },
     "execution_count": 55,
     "metadata": {},
     "output_type": "execute_result"
    }
   ],
   "source": [
    "dicts"
   ]
  },
  {
   "cell_type": "code",
   "execution_count": 42,
   "metadata": {},
   "outputs": [
    {
     "ename": "TypeError",
     "evalue": "the JSON object must be str, bytes or bytearray, not dict",
     "output_type": "error",
     "traceback": [
      "\u001b[0;31m---------------------------------------------------------------------------\u001b[0m",
      "\u001b[0;31mTypeError\u001b[0m                                 Traceback (most recent call last)",
      "Cell \u001b[0;32mIn[42], line 4\u001b[0m\n\u001b[1;32m      1\u001b[0m \u001b[38;5;28;01mimport\u001b[39;00m \u001b[38;5;21;01mjson\u001b[39;00m\n\u001b[1;32m      2\u001b[0m \u001b[38;5;28;01mimport\u001b[39;00m \u001b[38;5;21;01mast\u001b[39;00m\n\u001b[0;32m----> 4\u001b[0m \u001b[43mjson\u001b[49m\u001b[38;5;241;43m.\u001b[39;49m\u001b[43mloads\u001b[49m\u001b[43m(\u001b[49m\u001b[43mdicts\u001b[49m\u001b[43m)\u001b[49m\n",
      "File \u001b[0;32m/Library/Developer/CommandLineTools/Library/Frameworks/Python3.framework/Versions/3.9/lib/python3.9/json/__init__.py:339\u001b[0m, in \u001b[0;36mloads\u001b[0;34m(s, cls, object_hook, parse_float, parse_int, parse_constant, object_pairs_hook, **kw)\u001b[0m\n\u001b[1;32m    337\u001b[0m \u001b[38;5;28;01melse\u001b[39;00m:\n\u001b[1;32m    338\u001b[0m     \u001b[38;5;28;01mif\u001b[39;00m \u001b[38;5;129;01mnot\u001b[39;00m \u001b[38;5;28misinstance\u001b[39m(s, (\u001b[38;5;28mbytes\u001b[39m, \u001b[38;5;28mbytearray\u001b[39m)):\n\u001b[0;32m--> 339\u001b[0m         \u001b[38;5;28;01mraise\u001b[39;00m \u001b[38;5;167;01mTypeError\u001b[39;00m(\u001b[38;5;124mf\u001b[39m\u001b[38;5;124m'\u001b[39m\u001b[38;5;124mthe JSON object must be str, bytes or bytearray, \u001b[39m\u001b[38;5;124m'\u001b[39m\n\u001b[1;32m    340\u001b[0m                         \u001b[38;5;124mf\u001b[39m\u001b[38;5;124m'\u001b[39m\u001b[38;5;124mnot \u001b[39m\u001b[38;5;132;01m{\u001b[39;00ms\u001b[38;5;241m.\u001b[39m\u001b[38;5;18m__class__\u001b[39m\u001b[38;5;241m.\u001b[39m\u001b[38;5;18m__name__\u001b[39m\u001b[38;5;132;01m}\u001b[39;00m\u001b[38;5;124m'\u001b[39m)\n\u001b[1;32m    341\u001b[0m     s \u001b[38;5;241m=\u001b[39m s\u001b[38;5;241m.\u001b[39mdecode(detect_encoding(s), \u001b[38;5;124m'\u001b[39m\u001b[38;5;124msurrogatepass\u001b[39m\u001b[38;5;124m'\u001b[39m)\n\u001b[1;32m    343\u001b[0m \u001b[38;5;28;01mif\u001b[39;00m (\u001b[38;5;28mcls\u001b[39m \u001b[38;5;129;01mis\u001b[39;00m \u001b[38;5;28;01mNone\u001b[39;00m \u001b[38;5;129;01mand\u001b[39;00m object_hook \u001b[38;5;129;01mis\u001b[39;00m \u001b[38;5;28;01mNone\u001b[39;00m \u001b[38;5;129;01mand\u001b[39;00m\n\u001b[1;32m    344\u001b[0m         parse_int \u001b[38;5;129;01mis\u001b[39;00m \u001b[38;5;28;01mNone\u001b[39;00m \u001b[38;5;129;01mand\u001b[39;00m parse_float \u001b[38;5;129;01mis\u001b[39;00m \u001b[38;5;28;01mNone\u001b[39;00m \u001b[38;5;129;01mand\u001b[39;00m\n\u001b[1;32m    345\u001b[0m         parse_constant \u001b[38;5;129;01mis\u001b[39;00m \u001b[38;5;28;01mNone\u001b[39;00m \u001b[38;5;129;01mand\u001b[39;00m object_pairs_hook \u001b[38;5;129;01mis\u001b[39;00m \u001b[38;5;28;01mNone\u001b[39;00m \u001b[38;5;129;01mand\u001b[39;00m \u001b[38;5;129;01mnot\u001b[39;00m kw):\n",
      "\u001b[0;31mTypeError\u001b[0m: the JSON object must be str, bytes or bytearray, not dict"
     ]
    }
   ],
   "source": [
    "import json\n"
   ]
  },
  {
   "cell_type": "code",
   "execution_count": null,
   "metadata": {},
   "outputs": [],
   "source": []
  }
 ],
 "metadata": {
  "kernelspec": {
   "display_name": "Python 3",
   "language": "python",
   "name": "python3"
  },
  "language_info": {
   "codemirror_mode": {
    "name": "ipython",
    "version": 3
   },
   "file_extension": ".py",
   "mimetype": "text/x-python",
   "name": "python",
   "nbconvert_exporter": "python",
   "pygments_lexer": "ipython3",
   "version": "3.9.6"
  }
 },
 "nbformat": 4,
 "nbformat_minor": 2
}
